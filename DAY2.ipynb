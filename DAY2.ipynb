{
  "nbformat": 4,
  "nbformat_minor": 0,
  "metadata": {
    "colab": {
      "provenance": [],
      "authorship_tag": "ABX9TyMNQuyAZDtxY++ZL34LgezD",
      "include_colab_link": true
    },
    "kernelspec": {
      "name": "python3",
      "display_name": "Python 3"
    },
    "language_info": {
      "name": "python"
    }
  },
  "cells": [
    {
      "cell_type": "markdown",
      "metadata": {
        "id": "view-in-github",
        "colab_type": "text"
      },
      "source": [
        "<a href=\"https://colab.research.google.com/github/nchinna/Assignments/blob/main/DAY2.ipynb\" target=\"_parent\"><img src=\"https://colab.research.google.com/assets/colab-badge.svg\" alt=\"Open In Colab\"/></a>"
      ]
    },
    {
      "cell_type": "code",
      "execution_count": 5,
      "metadata": {
        "colab": {
          "base_uri": "https://localhost:8080/"
        },
        "id": "8OhjGYAXfBxe",
        "outputId": "07ad26f0-7c51-40fe-e3b6-93e294088fd9"
      },
      "outputs": [
        {
          "output_type": "stream",
          "name": "stdout",
          "text": [
            "[1, 2, 3, 4, 'achu']\n",
            "(11, 12, 13, 14, 'chaitu')\n",
            "{'name': 'dev', 'age': 15, 'class': 10, 'Grade': 'B', 'Section': 'Diamond'}\n",
            "achu\n",
            "14\n",
            "Diamond\n"
          ]
        }
      ],
      "source": [
        "a=[1,2,3,4,\"achu\"]\n",
        "b=(11,12,13,14,\"chaitu\")\n",
        "c={\"name\":\"dev\",\"age\":15,\"class\":10,\"Grade\":\"B\",\"Section\":\"Diamond\"}\n",
        "print(a)\n",
        "print(b)\n",
        "print(c)\n",
        "print(a[4])\n",
        "print(b[3])\n",
        "print(c[\"Section\"])"
      ]
    },
    {
      "cell_type": "code",
      "source": [],
      "metadata": {
        "id": "1lZTQBTOfsgF"
      },
      "execution_count": null,
      "outputs": []
    }
  ]
}