{
  "nbformat": 4,
  "nbformat_minor": 0,
  "metadata": {
    "colab": {
      "provenance": [],
      "authorship_tag": "ABX9TyNkh7wZwqM3jI6UinoVU+g+",
      "include_colab_link": true
    },
    "kernelspec": {
      "name": "python3",
      "display_name": "Python 3"
    },
    "language_info": {
      "name": "python"
    }
  },
  "cells": [
    {
      "cell_type": "markdown",
      "metadata": {
        "id": "view-in-github",
        "colab_type": "text"
      },
      "source": [
        "<a href=\"https://colab.research.google.com/github/NukanaboyinaChaitanya/Assignments/blob/main/Day5.ipynb\" target=\"_parent\"><img src=\"https://colab.research.google.com/assets/colab-badge.svg\" alt=\"Open In Colab\"/></a>"
      ]
    },
    {
      "cell_type": "code",
      "execution_count": 5,
      "metadata": {
        "colab": {
          "base_uri": "https://localhost:8080/"
        },
        "id": "LRBAcPPh00TA",
        "outputId": "9256316a-9405-4739-b647-397aaed5ea83"
      },
      "outputs": [
        {
          "output_type": "stream",
          "name": "stdout",
          "text": [
            "Enter a text: I was very happy today because I have placed in a company\n",
            "i: 2\n",
            "was: 1\n",
            "very: 1\n",
            "happy: 1\n",
            "today: 1\n",
            "because: 1\n",
            "have: 1\n",
            "placed: 1\n",
            "in: 1\n",
            "a: 1\n",
            "company: 1\n"
          ]
        }
      ],
      "source": [
        "from collections import Counter\n",
        "\n",
        "def calculate_word_frequency(text):\n",
        "  text = text.lower()\n",
        "  words = text.split()\n",
        "  word_counts = Counter(words)\n",
        "  for word, count in word_counts.items():\n",
        "    print(f\"{word}: {count}\")\n",
        "text = input(\"Enter a text: \")\n",
        "calculate_word_frequency(text)\n"
      ]
    },
    {
      "cell_type": "code",
      "source": [],
      "metadata": {
        "id": "dgthX-l21E7H"
      },
      "execution_count": 5,
      "outputs": []
    }
  ]
}