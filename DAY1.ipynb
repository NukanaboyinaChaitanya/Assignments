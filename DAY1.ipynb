{
  "nbformat": 4,
  "nbformat_minor": 0,
  "metadata": {
    "colab": {
      "provenance": [],
      "toc_visible": true,
      "authorship_tag": "ABX9TyPh8YO1kAantfHvS49K3zPx",
      "include_colab_link": true
    },
    "kernelspec": {
      "name": "python3",
      "display_name": "Python 3"
    },
    "language_info": {
      "name": "python"
    }
  },
  "cells": [
    {
      "cell_type": "markdown",
      "metadata": {
        "id": "view-in-github",
        "colab_type": "text"
      },
      "source": [
        "<a href=\"https://colab.research.google.com/github/nchinna/Assignments/blob/main/DAY1.ipynb\" target=\"_parent\"><img src=\"https://colab.research.google.com/assets/colab-badge.svg\" alt=\"Open In Colab\"/></a>"
      ]
    },
    {
      "cell_type": "code",
      "execution_count": 1,
      "metadata": {
        "colab": {
          "base_uri": "https://localhost:8080/"
        },
        "id": "M_uG27O5dUUW",
        "outputId": "c8aebb8a-a5e2-4791-b83d-09a8170f5c3d"
      },
      "outputs": [
        {
          "output_type": "stream",
          "name": "stdout",
          "text": [
            "3\n",
            "Hello\n",
            "27.5\n",
            "True\n",
            "<class 'int'>\n",
            "<class 'str'>\n",
            "<class 'float'>\n",
            "<class 'bool'>\n"
          ]
        }
      ],
      "source": [
        "a=3\n",
        "b=\"Hello\"\n",
        "c=27.5\n",
        "d=True\n",
        "print(a)\n",
        "print(b)\n",
        "print(c)\n",
        "print(d)\n",
        "print(type(a))\n",
        "print(type(b))\n",
        "print(type(c))\n",
        "print(type(d))"
      ]
    },
    {
      "cell_type": "code",
      "source": [],
      "metadata": {
        "id": "1AFoPV1bdVCi"
      },
      "execution_count": null,
      "outputs": []
    }
  ]
}