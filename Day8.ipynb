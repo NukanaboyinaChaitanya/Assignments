{
  "nbformat": 4,
  "nbformat_minor": 0,
  "metadata": {
    "colab": {
      "provenance": [],
      "authorship_tag": "ABX9TyOeNKL6EU43hI3ezSpjIGnX",
      "include_colab_link": true
    },
    "kernelspec": {
      "name": "python3",
      "display_name": "Python 3"
    },
    "language_info": {
      "name": "python"
    }
  },
  "cells": [
    {
      "cell_type": "markdown",
      "metadata": {
        "id": "view-in-github",
        "colab_type": "text"
      },
      "source": [
        "<a href=\"https://colab.research.google.com/github/NukanaboyinaChaitanya/Assignments/blob/main/Day8.ipynb\" target=\"_parent\"><img src=\"https://colab.research.google.com/assets/colab-badge.svg\" alt=\"Open In Colab\"/></a>"
      ]
    },
    {
      "cell_type": "code",
      "execution_count": 2,
      "metadata": {
        "colab": {
          "base_uri": "https://localhost:8080/"
        },
        "id": "O_ZSNRo_hEuO",
        "outputId": "daebc12d-3c05-44f2-a215-a0e3ebbc7513"
      },
      "outputs": [
        {
          "output_type": "stream",
          "name": "stderr",
          "text": [
            "[nltk_data] Downloading package punkt_tab to /root/nltk_data...\n",
            "[nltk_data]   Unzipping tokenizers/punkt_tab.zip.\n"
          ]
        },
        {
          "output_type": "stream",
          "name": "stdout",
          "text": [
            "Tokenized Sentences:\n",
            "['Natural Language Processing (NLP) is a fascinating field of AI.', 'It enables computers to understand and generate human language.', 'Tokenization is one of its fundamental steps.']\n",
            "\n",
            "Tokenized Words:\n",
            "['Natural', 'Language', 'Processing', '(', 'NLP', ')', 'is', 'a', 'fascinating', 'field', 'of', 'AI', '.', 'It', 'enables', 'computers', 'to', 'understand', 'and', 'generate', 'human', 'language', '.', 'Tokenization', 'is', 'one', 'of', 'its', 'fundamental', 'steps', '.']\n"
          ]
        }
      ],
      "source": [
        "import nltk\n",
        "from nltk.tokenize import word_tokenize, sent_tokenize\n",
        "nltk.download('punkt_tab')\n",
        "paragraph = \"Natural Language Processing (NLP) is a fascinating field of AI. It enables computers to understand and generate human language. Tokenization is one of its fundamental steps.\"\n",
        "sentences = sent_tokenize(paragraph)\n",
        "print(\"Tokenized Sentences:\")\n",
        "print(sentences)\n",
        "words = word_tokenize(paragraph)\n",
        "print(\"\\nTokenized Words:\")\n",
        "print(words)\n"
      ]
    },
    {
      "cell_type": "code",
      "source": [],
      "metadata": {
        "id": "1DG1ePvwhMLt"
      },
      "execution_count": null,
      "outputs": []
    }
  ]
}