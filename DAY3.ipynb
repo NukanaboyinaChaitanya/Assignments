{
  "nbformat": 4,
  "nbformat_minor": 0,
  "metadata": {
    "colab": {
      "provenance": [],
      "authorship_tag": "ABX9TyPtDYBDjtCIPJSw5Tt180fZ",
      "include_colab_link": true
    },
    "kernelspec": {
      "name": "python3",
      "display_name": "Python 3"
    },
    "language_info": {
      "name": "python"
    }
  },
  "cells": [
    {
      "cell_type": "markdown",
      "metadata": {
        "id": "view-in-github",
        "colab_type": "text"
      },
      "source": [
        "<a href=\"https://colab.research.google.com/github/nchinna/Assignments/blob/main/DAY3.ipynb\" target=\"_parent\"><img src=\"https://colab.research.google.com/assets/colab-badge.svg\" alt=\"Open In Colab\"/></a>"
      ]
    },
    {
      "cell_type": "code",
      "execution_count": 1,
      "metadata": {
        "colab": {
          "base_uri": "https://localhost:8080/"
        },
        "id": "ilrrwYb2gixN",
        "outputId": "6137d1c8-f04a-4e37-98b8-9e54e37ce52a"
      },
      "outputs": [
        {
          "output_type": "stream",
          "name": "stdout",
          "text": [
            "Enter the first subject Marks: 90\n",
            "Enter the second subject Marks: 94\n",
            "Enter the third subject Marks: 89\n",
            "Grade: A\n"
          ]
        }
      ],
      "source": [
        "a=int(input(\"Enter the first subject Marks: \"))\n",
        "b=int(input(\"Enter the second subject Marks: \"))\n",
        "c=int(input(\"Enter the third subject Marks: \"))\n",
        "d=(a+b+c)/3\n",
        "if d>=90:\n",
        "  print(\"Grade: A\")\n",
        "elif 80<=d<90:\n",
        "  print(\"Grade: B\")\n",
        "elif 70<=d<80:\n",
        "  print(\"Grade: C\")\n",
        "else:\n",
        "  print(\"Grade: Fail\")"
      ]
    },
    {
      "cell_type": "code",
      "source": [],
      "metadata": {
        "id": "fSQI_ePSiC-x"
      },
      "execution_count": null,
      "outputs": []
    }
  ]
}