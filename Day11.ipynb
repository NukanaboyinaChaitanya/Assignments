{
  "nbformat": 4,
  "nbformat_minor": 0,
  "metadata": {
    "colab": {
      "provenance": [],
      "authorship_tag": "ABX9TyMDAhahIU5C5TKG1ybvIjwx",
      "include_colab_link": true
    },
    "kernelspec": {
      "name": "python3",
      "display_name": "Python 3"
    },
    "language_info": {
      "name": "python"
    }
  },
  "cells": [
    {
      "cell_type": "markdown",
      "metadata": {
        "id": "view-in-github",
        "colab_type": "text"
      },
      "source": [
        "<a href=\"https://colab.research.google.com/github/NukanaboyinaChaitanya/Assignments/blob/main/Day11.ipynb\" target=\"_parent\"><img src=\"https://colab.research.google.com/assets/colab-badge.svg\" alt=\"Open In Colab\"/></a>"
      ]
    },
    {
      "source": [
        "import requests\n",
        "from bs4 import BeautifulSoup\n",
        "\n",
        "def fetch_webpage_title(url):\n",
        "    \"\"\"\n",
        "    Fetches and prints the title of a webpage.\n",
        "\n",
        "    Args:\n",
        "        url (str): The URL of the webpage.\n",
        "\n",
        "    Returns:\n",
        "        str: The title of the webpage.\n",
        "    \"\"\"\n",
        "    try:\n",
        "        response = requests.get(url)\n",
        "        response.raise_for_status()\n",
        "        soup = BeautifulSoup(response.text, 'html.parser')\n",
        "        title = soup.title.string if soup.title else \"No title found\"\n",
        "        return title\n",
        "    except requests.exceptions.RequestException as e:\n",
        "        return f\"Error fetching the webpage: {e}\"\n",
        "url = 'https://example.com'\n",
        "webpage_title = fetch_webpage_title(url)\n",
        "print(f\"Title of the webpage '{url}': {webpage_title}\")"
      ],
      "cell_type": "code",
      "metadata": {
        "colab": {
          "base_uri": "https://localhost:8080/"
        },
        "id": "lPFzjGC2i3Ct",
        "outputId": "77c04c50-ea22-42e4-939f-b5560de7f055"
      },
      "execution_count": 8,
      "outputs": [
        {
          "output_type": "stream",
          "name": "stdout",
          "text": [
            "Title of the webpage 'https://example.com': Example Domain\n"
          ]
        }
      ]
    },
    {
      "cell_type": "code",
      "source": [],
      "metadata": {
        "id": "1DG1ePvwhMLt"
      },
      "execution_count": null,
      "outputs": []
    }
  ]
}