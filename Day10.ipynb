{
  "nbformat": 4,
  "nbformat_minor": 0,
  "metadata": {
    "colab": {
      "provenance": [],
      "authorship_tag": "ABX9TyPEoTeoW/qtLzTiBxENlN05",
      "include_colab_link": true
    },
    "kernelspec": {
      "name": "python3",
      "display_name": "Python 3"
    },
    "language_info": {
      "name": "python"
    }
  },
  "cells": [
    {
      "cell_type": "markdown",
      "metadata": {
        "id": "view-in-github",
        "colab_type": "text"
      },
      "source": [
        "<a href=\"https://colab.research.google.com/github/NukanaboyinaChaitanya/Assignments/blob/main/Day10.ipynb\" target=\"_parent\"><img src=\"https://colab.research.google.com/assets/colab-badge.svg\" alt=\"Open In Colab\"/></a>"
      ]
    },
    {
      "source": [
        "import re\n",
        "\n",
        "def extract_emails(text):\n",
        "    \"\"\"\n",
        "    Extracts all email addresses from the given text using regular expressions.\n",
        "\n",
        "    Args:\n",
        "        text (str): The input string containing email addresses.\n",
        "\n",
        "    Returns:\n",
        "        list: A list of extracted email addresses.\n",
        "    \"\"\"\n",
        "    email_pattern = r'[a-zA-Z0-9._%+-]+@[a-zA-Z0-9.-]+\\.[a-zA-Z]{2,}'\n",
        "    emails = re.findall(email_pattern, text)\n",
        "    return emails\n",
        "input_text = 'Contact us at support@example.com and sales@example.org.'\n",
        "extracted_emails = extract_emails(input_text)\n",
        "print(\"Original:\", input_text)\n",
        "print(\"Extracted Emails:\", extracted_emails)"
      ],
      "cell_type": "code",
      "metadata": {
        "colab": {
          "base_uri": "https://localhost:8080/"
        },
        "id": "BiA8YfTNiVeJ",
        "outputId": "375fcc65-71b1-44f6-dada-b20ed7c60f2f"
      },
      "execution_count": 6,
      "outputs": [
        {
          "output_type": "stream",
          "name": "stdout",
          "text": [
            "Original: Contact us at support@example.com and sales@example.org.\n",
            "Extracted Emails: ['support@example.com', 'sales@example.org']\n"
          ]
        }
      ]
    },
    {
      "cell_type": "code",
      "source": [],
      "metadata": {
        "id": "1DG1ePvwhMLt"
      },
      "execution_count": null,
      "outputs": []
    }
  ]
}