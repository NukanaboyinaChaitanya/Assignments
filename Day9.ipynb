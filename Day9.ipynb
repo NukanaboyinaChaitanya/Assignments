{
  "nbformat": 4,
  "nbformat_minor": 0,
  "metadata": {
    "colab": {
      "provenance": [],
      "authorship_tag": "ABX9TyOtZsGWiJWeh/CwaLgRu0rU",
      "include_colab_link": true
    },
    "kernelspec": {
      "name": "python3",
      "display_name": "Python 3"
    },
    "language_info": {
      "name": "python"
    }
  },
  "cells": [
    {
      "cell_type": "markdown",
      "metadata": {
        "id": "view-in-github",
        "colab_type": "text"
      },
      "source": [
        "<a href=\"https://colab.research.google.com/github/NukanaboyinaChaitanya/Assignments/blob/main/Day9.ipynb\" target=\"_parent\"><img src=\"https://colab.research.google.com/assets/colab-badge.svg\" alt=\"Open In Colab\"/></a>"
      ]
    },
    {
      "source": [
        "import re\n",
        "\n",
        "def clean_text(text):\n",
        "    \"\"\"\n",
        "        Cleans the input text by removing special characters and converting to lowercase.\n",
        "\n",
        "                Args:\n",
        "                        text (str): The text to clean.\n",
        "\n",
        "                                Returns:\n",
        "                                        str: The cleaned text.\n",
        "                                            \"\"\"\n",
        "\n",
        "    cleaned_text = re.sub(r'[^a-zA-Z0-9\\s]', '', text)\n",
        "    cleaned_text = cleaned_text.lower()\n",
        "    return cleaned_text\n",
        "input_text = 'Hello, World! Welcome to NLP 101.'\n",
        "cleaned = clean_text(input_text)\n",
        "print(\"Original:\", input_text)\n",
        "print(\"Cleaned:\", cleaned)"
      ],
      "cell_type": "code",
      "metadata": {
        "colab": {
          "base_uri": "https://localhost:8080/"
        },
        "id": "84uOyXGnh6b0",
        "outputId": "61b4f3e2-4abf-483d-a369-f63804f9c723"
      },
      "execution_count": 4,
      "outputs": [
        {
          "output_type": "stream",
          "name": "stdout",
          "text": [
            "Original: Hello, World! Welcome to NLP 101.\n",
            "Cleaned: hello world welcome to nlp 101\n"
          ]
        }
      ]
    },
    {
      "cell_type": "code",
      "source": [],
      "metadata": {
        "id": "1DG1ePvwhMLt"
      },
      "execution_count": null,
      "outputs": []
    }
  ]
}