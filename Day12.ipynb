{
  "nbformat": 4,
  "nbformat_minor": 0,
  "metadata": {
    "colab": {
      "provenance": [],
      "authorship_tag": "ABX9TyMmUR09kyEjIApkLoqvYD7u",
      "include_colab_link": true
    },
    "kernelspec": {
      "name": "python3",
      "display_name": "Python 3"
    },
    "language_info": {
      "name": "python"
    }
  },
  "cells": [
    {
      "cell_type": "markdown",
      "metadata": {
        "id": "view-in-github",
        "colab_type": "text"
      },
      "source": [
        "<a href=\"https://colab.research.google.com/github/NukanaboyinaChaitanya/Assignments/blob/main/Day12.ipynb\" target=\"_parent\"><img src=\"https://colab.research.google.com/assets/colab-badge.svg\" alt=\"Open In Colab\"/></a>"
      ]
    },
    {
      "source": [
        "from wordcloud import WordCloud\n",
        "import matplotlib.pyplot as plt\n",
        "\n",
        "def generate_wordcloud(text, output_file):\n",
        "    \"\"\"\n",
        "    Generates a WordCloud from the given text and saves it as an image.\n",
        "\n",
        "    Args:\n",
        "        text (str): The input text for the WordCloud.\n",
        "        output_file (str): The file path to save the WordCloud image.\n",
        "    \"\"\"\n",
        "    wordcloud = WordCloud(width=800, height=400, background_color='white').generate(text)\n",
        "    plt.figure(figsize=(10, 5))\n",
        "    plt.imshow(wordcloud, interpolation='bilinear')\n",
        "    plt.axis('off')\n",
        "    plt.tight_layout()\n",
        "    plt.savefig(output_file)\n",
        "    plt.close()\n",
        "text = 'data science machine learning artificial intelligence'\n",
        "output_file = 'wordcloud.png'\n",
        "generate_wordcloud(text, output_file)\n",
        "print(f\"WordCloud saved as '{output_file}'\")"
      ],
      "cell_type": "code",
      "metadata": {
        "colab": {
          "base_uri": "https://localhost:8080/"
        },
        "id": "cd6auw7CjcPH",
        "outputId": "5f995581-f2ae-4a55-c7eb-15bcd8ea6780"
      },
      "execution_count": 10,
      "outputs": [
        {
          "output_type": "stream",
          "name": "stdout",
          "text": [
            "WordCloud saved as 'wordcloud.png'\n"
          ]
        }
      ]
    },
    {
      "cell_type": "code",
      "source": [],
      "metadata": {
        "id": "1DG1ePvwhMLt"
      },
      "execution_count": null,
      "outputs": []
    }
  ]
}